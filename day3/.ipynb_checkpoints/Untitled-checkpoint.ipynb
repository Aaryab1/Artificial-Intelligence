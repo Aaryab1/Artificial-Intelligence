{
 "cells": [
  {
   "cell_type": "markdown",
   "id": "330f019b-cbe4-4de1-a97e-c0275a274871",
   "metadata": {},
   "source": [
    "# Churn Modeling Using ANN"
   ]
  },
  {
   "cell_type": "markdown",
   "id": "6776d8c0-9cae-4fa7-951b-720d7c656ea7",
   "metadata": {},
   "source": [
    "**Below is a simple ANN model that predict whether the customer will leave the bank based on certain criteria. The EDA of given data is already performed in day3**"
   ]
  },
  {
   "cell_type": "markdown",
   "id": "f0597455-c9db-4aa6-aaaf-c7240f4527e0",
   "metadata": {},
   "source": [
    "### Importing Libraries"
   ]
  },
  {
   "cell_type": "code",
   "execution_count": 1,
   "id": "db6912a8-66cd-4627-a135-87490017207a",
   "metadata": {},
   "outputs": [],
   "source": [
    "import numpy as np\n",
    "import pandas as pd\n",
    "import tensorflow as tf\n",
    "from sklearn.preprocessing import LabelEncoder, StandardScaler\n",
    "from sklearn.compose import ColumnTransformer\n",
    "from sklearn.preprocessing import OneHotEncoder\n",
    "from sklearn.model_selection import train_test_split\n",
    "from sklearn.metrics import confusion_matrix, accuracy_score"
   ]
  },
  {
   "cell_type": "markdown",
   "id": "88e5189a-b080-455a-990a-406d6a948235",
   "metadata": {},
   "source": [
    "## Part-1 Data-Preprocessing"
   ]
  },
  {
   "cell_type": "markdown",
   "id": "06439aa4-8b1a-428b-8d44-0456b3746e29",
   "metadata": {},
   "source": [
    "### Importing Dataset"
   ]
  },
  {
   "cell_type": "code",
   "execution_count": 2,
   "id": "69c995cb-fe38-4cc7-9aa9-c63e8f7d3938",
   "metadata": {},
   "outputs": [],
   "source": [
    "dataset = pd.read_csv(r\"C:\\Users\\aryab\\OneDrive\\Desktop\\machine_learning\\1\\ANN\\Churn_Modelling.csv\")\n",
    "X = dataset.iloc[:,3:-1].values\n",
    "y = dataset.iloc[:,-1].values\n"
   ]
  },
  {
   "cell_type": "markdown",
   "id": "76790163-e4c9-4be3-8513-5788542e95b2",
   "metadata": {},
   "source": [
    "### Encoding categorical data"
   ]
  },
  {
   "cell_type": "markdown",
   "id": "ba700d0a-448f-4833-8ff0-00b9e285c1ab",
   "metadata": {},
   "source": [
    "#### Label encoding \"Gender\" column"
   ]
  },
  {
   "cell_type": "code",
   "execution_count": 3,
   "id": "70379099-65ea-4f82-9810-13c53877ddd6",
   "metadata": {},
   "outputs": [],
   "source": [
    "\n",
    "le = LabelEncoder()\n",
    "X[:,2]= le.fit_transform(X[:,2])"
   ]
  },
  {
   "cell_type": "markdown",
   "id": "b6c43c35-cde1-48e4-9bdf-d71926eb39e9",
   "metadata": {},
   "source": [
    "#### One Hot encoding \"Geography\" column"
   ]
  },
  {
   "cell_type": "code",
   "execution_count": 4,
   "id": "696ab140-c696-442a-91d5-e11649fc5051",
   "metadata": {},
   "outputs": [],
   "source": [
    "\n",
    "ct = ColumnTransformer(transformers=[('encoder', OneHotEncoder(), [1])], remainder='passthrough')\n",
    "X = np.array(ct.fit_transform(X))\n"
   ]
  },
  {
   "cell_type": "markdown",
   "id": "e175d493-4c39-4ac3-ab4f-6f498b82e351",
   "metadata": {},
   "source": [
    "### Splitting dataset into training,testing and validation set"
   ]
  },
  {
   "cell_type": "code",
   "execution_count": 5,
   "id": "53e3b645-f69c-4fe7-ba00-3b445ec7afb2",
   "metadata": {},
   "outputs": [],
   "source": [
    "\n",
    "X_train, X_temp, y_train, y_temp = train_test_split(X, y, test_size=0.3, random_state=1)\n",
    "X_val, X_test, y_val, y_test = train_test_split(X_temp, y_temp, test_size=0.5, random_state=1)"
   ]
  },
  {
   "cell_type": "markdown",
   "id": "a13556e8-fd70-4db5-ac60-da99693666c0",
   "metadata": {},
   "source": [
    "### Feature Scaling"
   ]
  },
  {
   "cell_type": "code",
   "execution_count": 6,
   "id": "fbd13bd1-e779-4243-898f-a08e406a88fa",
   "metadata": {},
   "outputs": [],
   "source": [
    "sc = StandardScaler()\n",
    "X_train = sc.fit_transform(X_train)\n",
    "X_val = sc.transform(X_val)\n",
    "X_test = sc.transform(X_test)\n"
   ]
  },
  {
   "cell_type": "markdown",
   "id": "a462909d-c998-4761-aeae-f89e4d84eac5",
   "metadata": {},
   "source": [
    "## Part-2 Building ANN"
   ]
  },
  {
   "cell_type": "markdown",
   "id": "cb197709-fa1d-48a1-8c35-09bec38a03be",
   "metadata": {},
   "source": [
    "### Initializing the ANN"
   ]
  },
  {
   "cell_type": "code",
   "execution_count": 7,
   "id": "0bb14b5b-abac-4d09-9437-c78b6df8709c",
   "metadata": {},
   "outputs": [],
   "source": [
    "ann = tf.keras.models.Sequential()"
   ]
  },
  {
   "cell_type": "markdown",
   "id": "d8c5d58c-47c4-4793-9460-6216fd4c1434",
   "metadata": {},
   "source": [
    "### Adding the input layer and first hidden layer"
   ]
  },
  {
   "cell_type": "code",
   "execution_count": 8,
   "id": "85d5915c-3e31-41e0-b4f0-e09b9ad19ba9",
   "metadata": {},
   "outputs": [],
   "source": [
    "ann.add(tf.keras.layers.Dense(units = 6,activation = 'relu'))"
   ]
  },
  {
   "cell_type": "markdown",
   "id": "eefcd8f1-0e8a-44e6-a995-f6b32b1e9a02",
   "metadata": {},
   "source": [
    "### Adding the second hidden layer"
   ]
  },
  {
   "cell_type": "code",
   "execution_count": 9,
   "id": "fe04b2df-49fe-413f-919f-853b55082eb5",
   "metadata": {},
   "outputs": [],
   "source": [
    "ann.add(tf.keras.layers.Dense(units = 6,activation = 'relu'))"
   ]
  },
  {
   "cell_type": "markdown",
   "id": "0d048281-5f81-425f-a854-47224d3c1d70",
   "metadata": {},
   "source": [
    "### Adding the output layer"
   ]
  },
  {
   "cell_type": "code",
   "execution_count": 10,
   "id": "40282f38-77ca-4a6e-9271-826ff116fd2a",
   "metadata": {},
   "outputs": [],
   "source": [
    "ann.add(tf.keras.layers.Dense(units = 1,activation = 'sigmoid'))"
   ]
  },
  {
   "cell_type": "markdown",
   "id": "a862d747-a502-4aaa-97e5-4ce51b10e755",
   "metadata": {},
   "source": [
    "## Part-3 Training the ANN"
   ]
  },
  {
   "cell_type": "markdown",
   "id": "f953021e-e6c7-4ea8-9993-2b1a11b42f02",
   "metadata": {},
   "source": [
    "### Compiling the ANN"
   ]
  },
  {
   "cell_type": "code",
   "execution_count": 11,
   "id": "63949e81-5191-478a-93a1-2a7696ca50af",
   "metadata": {},
   "outputs": [],
   "source": [
    "ann.compile(optimizer = 'adam',loss = 'binary_crossentropy'  ,metrics =['accuracy'] )"
   ]
  },
  {
   "cell_type": "markdown",
   "id": "41df1e0c-2d1d-4f43-98f0-1bdcfe0a06e0",
   "metadata": {},
   "source": [
    "### Training the ANN on the Training set"
   ]
  },
  {
   "cell_type": "code",
   "execution_count": 12,
   "id": "8d655310-9d7c-4417-b3e6-e3fc13e9ef66",
   "metadata": {},
   "outputs": [
    {
     "name": "stdout",
     "output_type": "stream",
     "text": [
      "Epoch 1/100\n",
      "\u001b[1m219/219\u001b[0m \u001b[32m━━━━━━━━━━━━━━━━━━━━\u001b[0m\u001b[37m\u001b[0m \u001b[1m2s\u001b[0m 1ms/step - accuracy: 0.7177 - loss: 0.6118 - val_accuracy: 0.7873 - val_loss: 0.5289\n",
      "Epoch 2/100\n",
      "\u001b[1m219/219\u001b[0m \u001b[32m━━━━━━━━━━━━━━━━━━━━\u001b[0m\u001b[37m\u001b[0m \u001b[1m0s\u001b[0m 789us/step - accuracy: 0.7928 - loss: 0.5025 - val_accuracy: 0.7873 - val_loss: 0.4749\n",
      "Epoch 3/100\n",
      "\u001b[1m219/219\u001b[0m \u001b[32m━━━━━━━━━━━━━━━━━━━━\u001b[0m\u001b[37m\u001b[0m \u001b[1m0s\u001b[0m 804us/step - accuracy: 0.7969 - loss: 0.4604 - val_accuracy: 0.7880 - val_loss: 0.4501\n",
      "Epoch 4/100\n",
      "\u001b[1m219/219\u001b[0m \u001b[32m━━━━━━━━━━━━━━━━━━━━\u001b[0m\u001b[37m\u001b[0m \u001b[1m0s\u001b[0m 802us/step - accuracy: 0.8098 - loss: 0.4365 - val_accuracy: 0.7993 - val_loss: 0.4358\n",
      "Epoch 5/100\n",
      "\u001b[1m219/219\u001b[0m \u001b[32m━━━━━━━━━━━━━━━━━━━━\u001b[0m\u001b[37m\u001b[0m \u001b[1m0s\u001b[0m 796us/step - accuracy: 0.8040 - loss: 0.4393 - val_accuracy: 0.8140 - val_loss: 0.4277\n",
      "Epoch 6/100\n",
      "\u001b[1m219/219\u001b[0m \u001b[32m━━━━━━━━━━━━━━━━━━━━\u001b[0m\u001b[37m\u001b[0m \u001b[1m0s\u001b[0m 799us/step - accuracy: 0.8153 - loss: 0.4222 - val_accuracy: 0.8153 - val_loss: 0.4217\n",
      "Epoch 7/100\n",
      "\u001b[1m219/219\u001b[0m \u001b[32m━━━━━━━━━━━━━━━━━━━━\u001b[0m\u001b[37m\u001b[0m \u001b[1m0s\u001b[0m 795us/step - accuracy: 0.8201 - loss: 0.4134 - val_accuracy: 0.8180 - val_loss: 0.4174\n",
      "Epoch 8/100\n",
      "\u001b[1m219/219\u001b[0m \u001b[32m━━━━━━━━━━━━━━━━━━━━\u001b[0m\u001b[37m\u001b[0m \u001b[1m0s\u001b[0m 800us/step - accuracy: 0.8149 - loss: 0.4173 - val_accuracy: 0.8207 - val_loss: 0.4105\n",
      "Epoch 9/100\n",
      "\u001b[1m219/219\u001b[0m \u001b[32m━━━━━━━━━━━━━━━━━━━━\u001b[0m\u001b[37m\u001b[0m \u001b[1m0s\u001b[0m 866us/step - accuracy: 0.8257 - loss: 0.4119 - val_accuracy: 0.8287 - val_loss: 0.3984\n",
      "Epoch 10/100\n",
      "\u001b[1m219/219\u001b[0m \u001b[32m━━━━━━━━━━━━━━━━━━━━\u001b[0m\u001b[37m\u001b[0m \u001b[1m0s\u001b[0m 818us/step - accuracy: 0.8409 - loss: 0.3921 - val_accuracy: 0.8440 - val_loss: 0.3845\n",
      "Epoch 11/100\n",
      "\u001b[1m219/219\u001b[0m \u001b[32m━━━━━━━━━━━━━━━━━━━━\u001b[0m\u001b[37m\u001b[0m \u001b[1m0s\u001b[0m 803us/step - accuracy: 0.8424 - loss: 0.3840 - val_accuracy: 0.8473 - val_loss: 0.3755\n",
      "Epoch 12/100\n",
      "\u001b[1m219/219\u001b[0m \u001b[32m━━━━━━━━━━━━━━━━━━━━\u001b[0m\u001b[37m\u001b[0m \u001b[1m0s\u001b[0m 804us/step - accuracy: 0.8503 - loss: 0.3694 - val_accuracy: 0.8547 - val_loss: 0.3665\n",
      "Epoch 13/100\n",
      "\u001b[1m219/219\u001b[0m \u001b[32m━━━━━━━━━━━━━━━━━━━━\u001b[0m\u001b[37m\u001b[0m \u001b[1m0s\u001b[0m 810us/step - accuracy: 0.8483 - loss: 0.3604 - val_accuracy: 0.8553 - val_loss: 0.3623\n",
      "Epoch 14/100\n",
      "\u001b[1m219/219\u001b[0m \u001b[32m━━━━━━━━━━━━━━━━━━━━\u001b[0m\u001b[37m\u001b[0m \u001b[1m0s\u001b[0m 811us/step - accuracy: 0.8482 - loss: 0.3665 - val_accuracy: 0.8560 - val_loss: 0.3588\n",
      "Epoch 15/100\n",
      "\u001b[1m219/219\u001b[0m \u001b[32m━━━━━━━━━━━━━━━━━━━━\u001b[0m\u001b[37m\u001b[0m \u001b[1m0s\u001b[0m 804us/step - accuracy: 0.8474 - loss: 0.3726 - val_accuracy: 0.8593 - val_loss: 0.3550\n",
      "Epoch 16/100\n",
      "\u001b[1m219/219\u001b[0m \u001b[32m━━━━━━━━━━━━━━━━━━━━\u001b[0m\u001b[37m\u001b[0m \u001b[1m0s\u001b[0m 802us/step - accuracy: 0.8451 - loss: 0.3624 - val_accuracy: 0.8613 - val_loss: 0.3515\n",
      "Epoch 17/100\n",
      "\u001b[1m219/219\u001b[0m \u001b[32m━━━━━━━━━━━━━━━━━━━━\u001b[0m\u001b[37m\u001b[0m \u001b[1m0s\u001b[0m 814us/step - accuracy: 0.8572 - loss: 0.3459 - val_accuracy: 0.8620 - val_loss: 0.3517\n",
      "Epoch 18/100\n",
      "\u001b[1m219/219\u001b[0m \u001b[32m━━━━━━━━━━━━━━━━━━━━\u001b[0m\u001b[37m\u001b[0m \u001b[1m0s\u001b[0m 801us/step - accuracy: 0.8506 - loss: 0.3526 - val_accuracy: 0.8640 - val_loss: 0.3469\n",
      "Epoch 19/100\n",
      "\u001b[1m219/219\u001b[0m \u001b[32m━━━━━━━━━━━━━━━━━━━━\u001b[0m\u001b[37m\u001b[0m \u001b[1m0s\u001b[0m 853us/step - accuracy: 0.8472 - loss: 0.3625 - val_accuracy: 0.8640 - val_loss: 0.3456\n",
      "Epoch 20/100\n",
      "\u001b[1m219/219\u001b[0m \u001b[32m━━━━━━━━━━━━━━━━━━━━\u001b[0m\u001b[37m\u001b[0m \u001b[1m0s\u001b[0m 800us/step - accuracy: 0.8558 - loss: 0.3525 - val_accuracy: 0.8647 - val_loss: 0.3466\n",
      "Epoch 21/100\n",
      "\u001b[1m219/219\u001b[0m \u001b[32m━━━━━━━━━━━━━━━━━━━━\u001b[0m\u001b[37m\u001b[0m \u001b[1m0s\u001b[0m 802us/step - accuracy: 0.8547 - loss: 0.3541 - val_accuracy: 0.8653 - val_loss: 0.3458\n",
      "Epoch 22/100\n",
      "\u001b[1m219/219\u001b[0m \u001b[32m━━━━━━━━━━━━━━━━━━━━\u001b[0m\u001b[37m\u001b[0m \u001b[1m0s\u001b[0m 798us/step - accuracy: 0.8581 - loss: 0.3427 - val_accuracy: 0.8667 - val_loss: 0.3424\n",
      "Epoch 23/100\n",
      "\u001b[1m219/219\u001b[0m \u001b[32m━━━━━━━━━━━━━━━━━━━━\u001b[0m\u001b[37m\u001b[0m \u001b[1m0s\u001b[0m 845us/step - accuracy: 0.8582 - loss: 0.3459 - val_accuracy: 0.8693 - val_loss: 0.3418\n",
      "Epoch 24/100\n",
      "\u001b[1m219/219\u001b[0m \u001b[32m━━━━━━━━━━━━━━━━━━━━\u001b[0m\u001b[37m\u001b[0m \u001b[1m0s\u001b[0m 825us/step - accuracy: 0.8607 - loss: 0.3458 - val_accuracy: 0.8687 - val_loss: 0.3397\n",
      "Epoch 25/100\n",
      "\u001b[1m219/219\u001b[0m \u001b[32m━━━━━━━━━━━━━━━━━━━━\u001b[0m\u001b[37m\u001b[0m \u001b[1m0s\u001b[0m 800us/step - accuracy: 0.8603 - loss: 0.3477 - val_accuracy: 0.8687 - val_loss: 0.3404\n",
      "Epoch 26/100\n",
      "\u001b[1m219/219\u001b[0m \u001b[32m━━━━━━━━━━━━━━━━━━━━\u001b[0m\u001b[37m\u001b[0m \u001b[1m0s\u001b[0m 821us/step - accuracy: 0.8534 - loss: 0.3494 - val_accuracy: 0.8700 - val_loss: 0.3375\n",
      "Epoch 27/100\n",
      "\u001b[1m219/219\u001b[0m \u001b[32m━━━━━━━━━━━━━━━━━━━━\u001b[0m\u001b[37m\u001b[0m \u001b[1m0s\u001b[0m 852us/step - accuracy: 0.8526 - loss: 0.3592 - val_accuracy: 0.8713 - val_loss: 0.3376\n",
      "Epoch 28/100\n",
      "\u001b[1m219/219\u001b[0m \u001b[32m━━━━━━━━━━━━━━━━━━━━\u001b[0m\u001b[37m\u001b[0m \u001b[1m0s\u001b[0m 822us/step - accuracy: 0.8528 - loss: 0.3586 - val_accuracy: 0.8713 - val_loss: 0.3366\n",
      "Epoch 29/100\n",
      "\u001b[1m219/219\u001b[0m \u001b[32m━━━━━━━━━━━━━━━━━━━━\u001b[0m\u001b[37m\u001b[0m \u001b[1m0s\u001b[0m 912us/step - accuracy: 0.8562 - loss: 0.3429 - val_accuracy: 0.8720 - val_loss: 0.3354\n",
      "Epoch 30/100\n",
      "\u001b[1m219/219\u001b[0m \u001b[32m━━━━━━━━━━━━━━━━━━━━\u001b[0m\u001b[37m\u001b[0m \u001b[1m0s\u001b[0m 841us/step - accuracy: 0.8548 - loss: 0.3417 - val_accuracy: 0.8700 - val_loss: 0.3368\n",
      "Epoch 31/100\n",
      "\u001b[1m219/219\u001b[0m \u001b[32m━━━━━━━━━━━━━━━━━━━━\u001b[0m\u001b[37m\u001b[0m \u001b[1m0s\u001b[0m 880us/step - accuracy: 0.8601 - loss: 0.3401 - val_accuracy: 0.8707 - val_loss: 0.3350\n",
      "Epoch 32/100\n",
      "\u001b[1m219/219\u001b[0m \u001b[32m━━━━━━━━━━━━━━━━━━━━\u001b[0m\u001b[37m\u001b[0m \u001b[1m0s\u001b[0m 837us/step - accuracy: 0.8584 - loss: 0.3464 - val_accuracy: 0.8720 - val_loss: 0.3338\n",
      "Epoch 33/100\n",
      "\u001b[1m219/219\u001b[0m \u001b[32m━━━━━━━━━━━━━━━━━━━━\u001b[0m\u001b[37m\u001b[0m \u001b[1m0s\u001b[0m 828us/step - accuracy: 0.8526 - loss: 0.3469 - val_accuracy: 0.8693 - val_loss: 0.3352\n",
      "Epoch 34/100\n",
      "\u001b[1m219/219\u001b[0m \u001b[32m━━━━━━━━━━━━━━━━━━━━\u001b[0m\u001b[37m\u001b[0m \u001b[1m0s\u001b[0m 861us/step - accuracy: 0.8583 - loss: 0.3411 - val_accuracy: 0.8707 - val_loss: 0.3321\n",
      "Epoch 35/100\n",
      "\u001b[1m219/219\u001b[0m \u001b[32m━━━━━━━━━━━━━━━━━━━━\u001b[0m\u001b[37m\u001b[0m \u001b[1m0s\u001b[0m 823us/step - accuracy: 0.8564 - loss: 0.3464 - val_accuracy: 0.8687 - val_loss: 0.3340\n",
      "Epoch 36/100\n",
      "\u001b[1m219/219\u001b[0m \u001b[32m━━━━━━━━━━━━━━━━━━━━\u001b[0m\u001b[37m\u001b[0m \u001b[1m0s\u001b[0m 811us/step - accuracy: 0.8624 - loss: 0.3417 - val_accuracy: 0.8700 - val_loss: 0.3317\n",
      "Epoch 37/100\n",
      "\u001b[1m219/219\u001b[0m \u001b[32m━━━━━━━━━━━━━━━━━━━━\u001b[0m\u001b[37m\u001b[0m \u001b[1m0s\u001b[0m 827us/step - accuracy: 0.8579 - loss: 0.3409 - val_accuracy: 0.8693 - val_loss: 0.3335\n",
      "Epoch 38/100\n",
      "\u001b[1m219/219\u001b[0m \u001b[32m━━━━━━━━━━━━━━━━━━━━\u001b[0m\u001b[37m\u001b[0m \u001b[1m0s\u001b[0m 1ms/step - accuracy: 0.8627 - loss: 0.3428 - val_accuracy: 0.8720 - val_loss: 0.3309\n",
      "Epoch 39/100\n",
      "\u001b[1m219/219\u001b[0m \u001b[32m━━━━━━━━━━━━━━━━━━━━\u001b[0m\u001b[37m\u001b[0m \u001b[1m0s\u001b[0m 1ms/step - accuracy: 0.8569 - loss: 0.3479 - val_accuracy: 0.8713 - val_loss: 0.3305\n",
      "Epoch 40/100\n",
      "\u001b[1m219/219\u001b[0m \u001b[32m━━━━━━━━━━━━━━━━━━━━\u001b[0m\u001b[37m\u001b[0m \u001b[1m0s\u001b[0m 912us/step - accuracy: 0.8635 - loss: 0.3402 - val_accuracy: 0.8713 - val_loss: 0.3300\n",
      "Epoch 41/100\n",
      "\u001b[1m219/219\u001b[0m \u001b[32m━━━━━━━━━━━━━━━━━━━━\u001b[0m\u001b[37m\u001b[0m \u001b[1m0s\u001b[0m 928us/step - accuracy: 0.8610 - loss: 0.3334 - val_accuracy: 0.8700 - val_loss: 0.3303\n",
      "Epoch 42/100\n",
      "\u001b[1m219/219\u001b[0m \u001b[32m━━━━━━━━━━━━━━━━━━━━\u001b[0m\u001b[37m\u001b[0m \u001b[1m0s\u001b[0m 909us/step - accuracy: 0.8617 - loss: 0.3350 - val_accuracy: 0.8707 - val_loss: 0.3308\n",
      "Epoch 43/100\n",
      "\u001b[1m219/219\u001b[0m \u001b[32m━━━━━━━━━━━━━━━━━━━━\u001b[0m\u001b[37m\u001b[0m \u001b[1m0s\u001b[0m 896us/step - accuracy: 0.8577 - loss: 0.3439 - val_accuracy: 0.8707 - val_loss: 0.3316\n",
      "Epoch 44/100\n",
      "\u001b[1m219/219\u001b[0m \u001b[32m━━━━━━━━━━━━━━━━━━━━\u001b[0m\u001b[37m\u001b[0m \u001b[1m0s\u001b[0m 838us/step - accuracy: 0.8656 - loss: 0.3362 - val_accuracy: 0.8707 - val_loss: 0.3291\n",
      "Epoch 45/100\n",
      "\u001b[1m219/219\u001b[0m \u001b[32m━━━━━━━━━━━━━━━━━━━━\u001b[0m\u001b[37m\u001b[0m \u001b[1m0s\u001b[0m 841us/step - accuracy: 0.8655 - loss: 0.3322 - val_accuracy: 0.8700 - val_loss: 0.3305\n",
      "Epoch 46/100\n",
      "\u001b[1m219/219\u001b[0m \u001b[32m━━━━━━━━━━━━━━━━━━━━\u001b[0m\u001b[37m\u001b[0m \u001b[1m0s\u001b[0m 872us/step - accuracy: 0.8638 - loss: 0.3345 - val_accuracy: 0.8707 - val_loss: 0.3295\n",
      "Epoch 47/100\n",
      "\u001b[1m219/219\u001b[0m \u001b[32m━━━━━━━━━━━━━━━━━━━━\u001b[0m\u001b[37m\u001b[0m \u001b[1m0s\u001b[0m 843us/step - accuracy: 0.8625 - loss: 0.3422 - val_accuracy: 0.8707 - val_loss: 0.3285\n",
      "Epoch 48/100\n",
      "\u001b[1m219/219\u001b[0m \u001b[32m━━━━━━━━━━━━━━━━━━━━\u001b[0m\u001b[37m\u001b[0m \u001b[1m0s\u001b[0m 830us/step - accuracy: 0.8637 - loss: 0.3345 - val_accuracy: 0.8707 - val_loss: 0.3290\n",
      "Epoch 49/100\n",
      "\u001b[1m219/219\u001b[0m \u001b[32m━━━━━━━━━━━━━━━━━━━━\u001b[0m\u001b[37m\u001b[0m \u001b[1m0s\u001b[0m 864us/step - accuracy: 0.8620 - loss: 0.3462 - val_accuracy: 0.8687 - val_loss: 0.3288\n",
      "Epoch 50/100\n",
      "\u001b[1m219/219\u001b[0m \u001b[32m━━━━━━━━━━━━━━━━━━━━\u001b[0m\u001b[37m\u001b[0m \u001b[1m0s\u001b[0m 842us/step - accuracy: 0.8554 - loss: 0.3425 - val_accuracy: 0.8687 - val_loss: 0.3293\n",
      "Epoch 51/100\n",
      "\u001b[1m219/219\u001b[0m \u001b[32m━━━━━━━━━━━━━━━━━━━━\u001b[0m\u001b[37m\u001b[0m \u001b[1m0s\u001b[0m 834us/step - accuracy: 0.8608 - loss: 0.3324 - val_accuracy: 0.8687 - val_loss: 0.3276\n",
      "Epoch 52/100\n",
      "\u001b[1m219/219\u001b[0m \u001b[32m━━━━━━━━━━━━━━━━━━━━\u001b[0m\u001b[37m\u001b[0m \u001b[1m0s\u001b[0m 810us/step - accuracy: 0.8630 - loss: 0.3393 - val_accuracy: 0.8687 - val_loss: 0.3291\n",
      "Epoch 53/100\n",
      "\u001b[1m219/219\u001b[0m \u001b[32m━━━━━━━━━━━━━━━━━━━━\u001b[0m\u001b[37m\u001b[0m \u001b[1m0s\u001b[0m 845us/step - accuracy: 0.8671 - loss: 0.3254 - val_accuracy: 0.8673 - val_loss: 0.3293\n",
      "Epoch 54/100\n",
      "\u001b[1m219/219\u001b[0m \u001b[32m━━━━━━━━━━━━━━━━━━━━\u001b[0m\u001b[37m\u001b[0m \u001b[1m0s\u001b[0m 831us/step - accuracy: 0.8559 - loss: 0.3402 - val_accuracy: 0.8687 - val_loss: 0.3276\n",
      "Epoch 55/100\n",
      "\u001b[1m219/219\u001b[0m \u001b[32m━━━━━━━━━━━━━━━━━━━━\u001b[0m\u001b[37m\u001b[0m \u001b[1m0s\u001b[0m 835us/step - accuracy: 0.8677 - loss: 0.3257 - val_accuracy: 0.8680 - val_loss: 0.3278\n",
      "Epoch 56/100\n",
      "\u001b[1m219/219\u001b[0m \u001b[32m━━━━━━━━━━━━━━━━━━━━\u001b[0m\u001b[37m\u001b[0m \u001b[1m0s\u001b[0m 812us/step - accuracy: 0.8564 - loss: 0.3426 - val_accuracy: 0.8733 - val_loss: 0.3269\n",
      "Epoch 57/100\n",
      "\u001b[1m219/219\u001b[0m \u001b[32m━━━━━━━━━━━━━━━━━━━━\u001b[0m\u001b[37m\u001b[0m \u001b[1m0s\u001b[0m 891us/step - accuracy: 0.8606 - loss: 0.3384 - val_accuracy: 0.8693 - val_loss: 0.3273\n",
      "Epoch 58/100\n",
      "\u001b[1m219/219\u001b[0m \u001b[32m━━━━━━━━━━━━━━━━━━━━\u001b[0m\u001b[37m\u001b[0m \u001b[1m0s\u001b[0m 806us/step - accuracy: 0.8610 - loss: 0.3362 - val_accuracy: 0.8687 - val_loss: 0.3264\n",
      "Epoch 59/100\n",
      "\u001b[1m219/219\u001b[0m \u001b[32m━━━━━━━━━━━━━━━━━━━━\u001b[0m\u001b[37m\u001b[0m \u001b[1m0s\u001b[0m 812us/step - accuracy: 0.8655 - loss: 0.3334 - val_accuracy: 0.8720 - val_loss: 0.3269\n",
      "Epoch 60/100\n",
      "\u001b[1m219/219\u001b[0m \u001b[32m━━━━━━━━━━━━━━━━━━━━\u001b[0m\u001b[37m\u001b[0m \u001b[1m0s\u001b[0m 807us/step - accuracy: 0.8703 - loss: 0.3294 - val_accuracy: 0.8707 - val_loss: 0.3272\n",
      "Epoch 61/100\n",
      "\u001b[1m219/219\u001b[0m \u001b[32m━━━━━━━━━━━━━━━━━━━━\u001b[0m\u001b[37m\u001b[0m \u001b[1m0s\u001b[0m 842us/step - accuracy: 0.8588 - loss: 0.3382 - val_accuracy: 0.8700 - val_loss: 0.3282\n",
      "Epoch 62/100\n",
      "\u001b[1m219/219\u001b[0m \u001b[32m━━━━━━━━━━━━━━━━━━━━\u001b[0m\u001b[37m\u001b[0m \u001b[1m0s\u001b[0m 824us/step - accuracy: 0.8556 - loss: 0.3517 - val_accuracy: 0.8693 - val_loss: 0.3278\n",
      "Epoch 63/100\n",
      "\u001b[1m219/219\u001b[0m \u001b[32m━━━━━━━━━━━━━━━━━━━━\u001b[0m\u001b[37m\u001b[0m \u001b[1m0s\u001b[0m 891us/step - accuracy: 0.8633 - loss: 0.3296 - val_accuracy: 0.8720 - val_loss: 0.3265\n",
      "Epoch 64/100\n",
      "\u001b[1m219/219\u001b[0m \u001b[32m━━━━━━━━━━━━━━━━━━━━\u001b[0m\u001b[37m\u001b[0m \u001b[1m0s\u001b[0m 907us/step - accuracy: 0.8698 - loss: 0.3271 - val_accuracy: 0.8693 - val_loss: 0.3264\n",
      "Epoch 65/100\n",
      "\u001b[1m219/219\u001b[0m \u001b[32m━━━━━━━━━━━━━━━━━━━━\u001b[0m\u001b[37m\u001b[0m \u001b[1m0s\u001b[0m 945us/step - accuracy: 0.8663 - loss: 0.3343 - val_accuracy: 0.8700 - val_loss: 0.3283\n",
      "Epoch 66/100\n",
      "\u001b[1m219/219\u001b[0m \u001b[32m━━━━━━━━━━━━━━━━━━━━\u001b[0m\u001b[37m\u001b[0m \u001b[1m0s\u001b[0m 908us/step - accuracy: 0.8709 - loss: 0.3265 - val_accuracy: 0.8707 - val_loss: 0.3267\n",
      "Epoch 67/100\n",
      "\u001b[1m219/219\u001b[0m \u001b[32m━━━━━━━━━━━━━━━━━━━━\u001b[0m\u001b[37m\u001b[0m \u001b[1m0s\u001b[0m 841us/step - accuracy: 0.8562 - loss: 0.3421 - val_accuracy: 0.8687 - val_loss: 0.3265\n",
      "Epoch 68/100\n",
      "\u001b[1m219/219\u001b[0m \u001b[32m━━━━━━━━━━━━━━━━━━━━\u001b[0m\u001b[37m\u001b[0m \u001b[1m0s\u001b[0m 816us/step - accuracy: 0.8662 - loss: 0.3316 - val_accuracy: 0.8713 - val_loss: 0.3271\n",
      "Epoch 69/100\n",
      "\u001b[1m219/219\u001b[0m \u001b[32m━━━━━━━━━━━━━━━━━━━━\u001b[0m\u001b[37m\u001b[0m \u001b[1m0s\u001b[0m 835us/step - accuracy: 0.8637 - loss: 0.3319 - val_accuracy: 0.8740 - val_loss: 0.3252\n",
      "Epoch 70/100\n",
      "\u001b[1m219/219\u001b[0m \u001b[32m━━━━━━━━━━━━━━━━━━━━\u001b[0m\u001b[37m\u001b[0m \u001b[1m0s\u001b[0m 917us/step - accuracy: 0.8643 - loss: 0.3343 - val_accuracy: 0.8720 - val_loss: 0.3251\n",
      "Epoch 71/100\n",
      "\u001b[1m219/219\u001b[0m \u001b[32m━━━━━━━━━━━━━━━━━━━━\u001b[0m\u001b[37m\u001b[0m \u001b[1m0s\u001b[0m 806us/step - accuracy: 0.8624 - loss: 0.3322 - val_accuracy: 0.8693 - val_loss: 0.3256\n",
      "Epoch 72/100\n",
      "\u001b[1m219/219\u001b[0m \u001b[32m━━━━━━━━━━━━━━━━━━━━\u001b[0m\u001b[37m\u001b[0m \u001b[1m0s\u001b[0m 830us/step - accuracy: 0.8640 - loss: 0.3267 - val_accuracy: 0.8693 - val_loss: 0.3270\n",
      "Epoch 73/100\n",
      "\u001b[1m219/219\u001b[0m \u001b[32m━━━━━━━━━━━━━━━━━━━━\u001b[0m\u001b[37m\u001b[0m \u001b[1m0s\u001b[0m 819us/step - accuracy: 0.8667 - loss: 0.3375 - val_accuracy: 0.8693 - val_loss: 0.3262\n",
      "Epoch 74/100\n",
      "\u001b[1m219/219\u001b[0m \u001b[32m━━━━━━━━━━━━━━━━━━━━\u001b[0m\u001b[37m\u001b[0m \u001b[1m0s\u001b[0m 818us/step - accuracy: 0.8746 - loss: 0.3208 - val_accuracy: 0.8687 - val_loss: 0.3257\n",
      "Epoch 75/100\n",
      "\u001b[1m219/219\u001b[0m \u001b[32m━━━━━━━━━━━━━━━━━━━━\u001b[0m\u001b[37m\u001b[0m \u001b[1m0s\u001b[0m 905us/step - accuracy: 0.8679 - loss: 0.3244 - val_accuracy: 0.8707 - val_loss: 0.3255\n",
      "Epoch 76/100\n",
      "\u001b[1m219/219\u001b[0m \u001b[32m━━━━━━━━━━━━━━━━━━━━\u001b[0m\u001b[37m\u001b[0m \u001b[1m0s\u001b[0m 933us/step - accuracy: 0.8747 - loss: 0.3197 - val_accuracy: 0.8680 - val_loss: 0.3262\n",
      "Epoch 77/100\n",
      "\u001b[1m219/219\u001b[0m \u001b[32m━━━━━━━━━━━━━━━━━━━━\u001b[0m\u001b[37m\u001b[0m \u001b[1m0s\u001b[0m 1ms/step - accuracy: 0.8668 - loss: 0.3302 - val_accuracy: 0.8700 - val_loss: 0.3270\n",
      "Epoch 78/100\n",
      "\u001b[1m219/219\u001b[0m \u001b[32m━━━━━━━━━━━━━━━━━━━━\u001b[0m\u001b[37m\u001b[0m \u001b[1m0s\u001b[0m 817us/step - accuracy: 0.8626 - loss: 0.3306 - val_accuracy: 0.8720 - val_loss: 0.3254\n",
      "Epoch 79/100\n",
      "\u001b[1m219/219\u001b[0m \u001b[32m━━━━━━━━━━━━━━━━━━━━\u001b[0m\u001b[37m\u001b[0m \u001b[1m0s\u001b[0m 829us/step - accuracy: 0.8673 - loss: 0.3324 - val_accuracy: 0.8707 - val_loss: 0.3258\n",
      "Epoch 80/100\n",
      "\u001b[1m219/219\u001b[0m \u001b[32m━━━━━━━━━━━━━━━━━━━━\u001b[0m\u001b[37m\u001b[0m \u001b[1m0s\u001b[0m 859us/step - accuracy: 0.8665 - loss: 0.3372 - val_accuracy: 0.8687 - val_loss: 0.3259\n",
      "Epoch 81/100\n",
      "\u001b[1m219/219\u001b[0m \u001b[32m━━━━━━━━━━━━━━━━━━━━\u001b[0m\u001b[37m\u001b[0m \u001b[1m0s\u001b[0m 840us/step - accuracy: 0.8671 - loss: 0.3292 - val_accuracy: 0.8707 - val_loss: 0.3248\n",
      "Epoch 82/100\n",
      "\u001b[1m219/219\u001b[0m \u001b[32m━━━━━━━━━━━━━━━━━━━━\u001b[0m\u001b[37m\u001b[0m \u001b[1m0s\u001b[0m 1ms/step - accuracy: 0.8674 - loss: 0.3321 - val_accuracy: 0.8687 - val_loss: 0.3255\n",
      "Epoch 83/100\n",
      "\u001b[1m219/219\u001b[0m \u001b[32m━━━━━━━━━━━━━━━━━━━━\u001b[0m\u001b[37m\u001b[0m \u001b[1m0s\u001b[0m 1ms/step - accuracy: 0.8588 - loss: 0.3398 - val_accuracy: 0.8693 - val_loss: 0.3283\n",
      "Epoch 84/100\n",
      "\u001b[1m219/219\u001b[0m \u001b[32m━━━━━━━━━━━━━━━━━━━━\u001b[0m\u001b[37m\u001b[0m \u001b[1m0s\u001b[0m 860us/step - accuracy: 0.8602 - loss: 0.3415 - val_accuracy: 0.8707 - val_loss: 0.3254\n",
      "Epoch 85/100\n",
      "\u001b[1m219/219\u001b[0m \u001b[32m━━━━━━━━━━━━━━━━━━━━\u001b[0m\u001b[37m\u001b[0m \u001b[1m0s\u001b[0m 825us/step - accuracy: 0.8689 - loss: 0.3304 - val_accuracy: 0.8707 - val_loss: 0.3260\n",
      "Epoch 86/100\n",
      "\u001b[1m219/219\u001b[0m \u001b[32m━━━━━━━━━━━━━━━━━━━━\u001b[0m\u001b[37m\u001b[0m \u001b[1m0s\u001b[0m 1ms/step - accuracy: 0.8647 - loss: 0.3330 - val_accuracy: 0.8713 - val_loss: 0.3258\n",
      "Epoch 87/100\n",
      "\u001b[1m219/219\u001b[0m \u001b[32m━━━━━━━━━━━━━━━━━━━━\u001b[0m\u001b[37m\u001b[0m \u001b[1m0s\u001b[0m 1ms/step - accuracy: 0.8639 - loss: 0.3297 - val_accuracy: 0.8693 - val_loss: 0.3260\n",
      "Epoch 88/100\n",
      "\u001b[1m219/219\u001b[0m \u001b[32m━━━━━━━━━━━━━━━━━━━━\u001b[0m\u001b[37m\u001b[0m \u001b[1m0s\u001b[0m 867us/step - accuracy: 0.8657 - loss: 0.3329 - val_accuracy: 0.8687 - val_loss: 0.3258\n",
      "Epoch 89/100\n",
      "\u001b[1m219/219\u001b[0m \u001b[32m━━━━━━━━━━━━━━━━━━━━\u001b[0m\u001b[37m\u001b[0m \u001b[1m0s\u001b[0m 835us/step - accuracy: 0.8672 - loss: 0.3278 - val_accuracy: 0.8693 - val_loss: 0.3252\n",
      "Epoch 90/100\n",
      "\u001b[1m219/219\u001b[0m \u001b[32m━━━━━━━━━━━━━━━━━━━━\u001b[0m\u001b[37m\u001b[0m \u001b[1m0s\u001b[0m 831us/step - accuracy: 0.8714 - loss: 0.3201 - val_accuracy: 0.8693 - val_loss: 0.3246\n",
      "Epoch 91/100\n",
      "\u001b[1m219/219\u001b[0m \u001b[32m━━━━━━━━━━━━━━━━━━━━\u001b[0m\u001b[37m\u001b[0m \u001b[1m0s\u001b[0m 837us/step - accuracy: 0.8757 - loss: 0.3142 - val_accuracy: 0.8693 - val_loss: 0.3250\n",
      "Epoch 92/100\n",
      "\u001b[1m219/219\u001b[0m \u001b[32m━━━━━━━━━━━━━━━━━━━━\u001b[0m\u001b[37m\u001b[0m \u001b[1m0s\u001b[0m 860us/step - accuracy: 0.8634 - loss: 0.3373 - val_accuracy: 0.8700 - val_loss: 0.3261\n",
      "Epoch 93/100\n",
      "\u001b[1m219/219\u001b[0m \u001b[32m━━━━━━━━━━━━━━━━━━━━\u001b[0m\u001b[37m\u001b[0m \u001b[1m0s\u001b[0m 814us/step - accuracy: 0.8624 - loss: 0.3351 - val_accuracy: 0.8693 - val_loss: 0.3248\n",
      "Epoch 94/100\n",
      "\u001b[1m219/219\u001b[0m \u001b[32m━━━━━━━━━━━━━━━━━━━━\u001b[0m\u001b[37m\u001b[0m \u001b[1m0s\u001b[0m 805us/step - accuracy: 0.8628 - loss: 0.3379 - val_accuracy: 0.8700 - val_loss: 0.3255\n",
      "Epoch 95/100\n",
      "\u001b[1m219/219\u001b[0m \u001b[32m━━━━━━━━━━━━━━━━━━━━\u001b[0m\u001b[37m\u001b[0m \u001b[1m0s\u001b[0m 814us/step - accuracy: 0.8727 - loss: 0.3127 - val_accuracy: 0.8687 - val_loss: 0.3262\n",
      "Epoch 96/100\n",
      "\u001b[1m219/219\u001b[0m \u001b[32m━━━━━━━━━━━━━━━━━━━━\u001b[0m\u001b[37m\u001b[0m \u001b[1m0s\u001b[0m 812us/step - accuracy: 0.8605 - loss: 0.3391 - val_accuracy: 0.8693 - val_loss: 0.3255\n",
      "Epoch 97/100\n",
      "\u001b[1m219/219\u001b[0m \u001b[32m━━━━━━━━━━━━━━━━━━━━\u001b[0m\u001b[37m\u001b[0m \u001b[1m0s\u001b[0m 893us/step - accuracy: 0.8633 - loss: 0.3394 - val_accuracy: 0.8693 - val_loss: 0.3240\n",
      "Epoch 98/100\n",
      "\u001b[1m219/219\u001b[0m \u001b[32m━━━━━━━━━━━━━━━━━━━━\u001b[0m\u001b[37m\u001b[0m \u001b[1m0s\u001b[0m 808us/step - accuracy: 0.8639 - loss: 0.3278 - val_accuracy: 0.8673 - val_loss: 0.3254\n",
      "Epoch 99/100\n",
      "\u001b[1m219/219\u001b[0m \u001b[32m━━━━━━━━━━━━━━━━━━━━\u001b[0m\u001b[37m\u001b[0m \u001b[1m0s\u001b[0m 822us/step - accuracy: 0.8693 - loss: 0.3316 - val_accuracy: 0.8680 - val_loss: 0.3252\n",
      "Epoch 100/100\n",
      "\u001b[1m219/219\u001b[0m \u001b[32m━━━━━━━━━━━━━━━━━━━━\u001b[0m\u001b[37m\u001b[0m \u001b[1m0s\u001b[0m 815us/step - accuracy: 0.8662 - loss: 0.3267 - val_accuracy: 0.8667 - val_loss: 0.3247\n"
     ]
    },
    {
     "data": {
      "text/plain": [
       "<keras.src.callbacks.history.History at 0x24d275c60d0>"
      ]
     },
     "execution_count": 12,
     "metadata": {},
     "output_type": "execute_result"
    }
   ],
   "source": [
    "ann.fit(X_train, y_train, validation_data=(X_val, y_val), batch_size=32, epochs=100)"
   ]
  },
  {
   "cell_type": "markdown",
   "id": "f2695260-79b9-4618-92af-ffb370611e33",
   "metadata": {},
   "source": [
    "## Part-4 Making prediction and evaluating the model "
   ]
  },
  {
   "cell_type": "markdown",
   "id": "e7ec7c4d-7af4-41fc-ac13-66eb7aaf9e11",
   "metadata": {},
   "source": [
    "### Predicting the result of single observation"
   ]
  },
  {
   "cell_type": "markdown",
   "id": "4c1f60ce-e694-45ed-8229-b9e5bb66b13d",
   "metadata": {},
   "source": [
    "if the customer with the following informations will leave the bank:\r\n",
    "\r\n",
    "Geography: France\r\n",
    "\r\n",
    "Credit Score: 600\r\n",
    "\r\n",
    "Gender: Male\r\n",
    "\r\n",
    "Age: 40 years old\r\n",
    "\r\n",
    "Tenure: 3 years\r\n",
    "\r\n",
    "Balance: $ 60000\r\n",
    "\r\n",
    "Number of Products: 2\r\n",
    "\r\n",
    "Does this customer have a credit card? Yes\r\n",
    "\r\n",
    "Is this customer an Active Member: Yes\r\n",
    "\r\n",
    "Estimated Salary: $ 50000"
   ]
  },
  {
   "cell_type": "code",
   "execution_count": 13,
   "id": "58cc6955-075b-4a93-b532-57e5dc154858",
   "metadata": {},
   "outputs": [
    {
     "name": "stdout",
     "output_type": "stream",
     "text": [
      "\u001b[1m1/1\u001b[0m \u001b[32m━━━━━━━━━━━━━━━━━━━━\u001b[0m\u001b[37m\u001b[0m \u001b[1m0s\u001b[0m 48ms/step\n",
      "[[False]]\n"
     ]
    }
   ],
   "source": [
    "print(ann.predict(sc.transform([[1,0,0,600,1,40,3,60000,2,1,1,50000]])) > 0.5)"
   ]
  },
  {
   "cell_type": "markdown",
   "id": "9b65c3dc-a427-4486-850b-6a5596c6baa5",
   "metadata": {},
   "source": [
    "Therfore our ANN model predict that the this customer stays in the bank"
   ]
  },
  {
   "cell_type": "markdown",
   "id": "4e170181-b0dc-42d8-9364-863935346918",
   "metadata": {},
   "source": [
    "### Predicting the Test set result"
   ]
  },
  {
   "cell_type": "code",
   "execution_count": 18,
   "id": "24897426-f5c6-41c7-a1a5-5852457ec563",
   "metadata": {},
   "outputs": [
    {
     "name": "stdout",
     "output_type": "stream",
     "text": [
      "\u001b[1m47/47\u001b[0m \u001b[32m━━━━━━━━━━━━━━━━━━━━\u001b[0m\u001b[37m\u001b[0m \u001b[1m0s\u001b[0m 589us/step\n",
      "[[0 0]\n",
      " [0 0]\n",
      " [0 0]\n",
      " ...\n",
      " [0 0]\n",
      " [0 0]\n",
      " [0 0]]\n"
     ]
    }
   ],
   "source": [
    "y_pred = ann.predict(X_test)\n",
    "y_pred = (y_pred > 0.5)\n",
    "print(np.concatenate((y_pred.reshape(len(y_pred), 1), y_test.reshape(len(y_test), 1)), 1))\n"
   ]
  },
  {
   "cell_type": "markdown",
   "id": "b38e019b-2e6e-47c2-8a57-0a7693711331",
   "metadata": {},
   "source": [
    "### Making Confusing Matrix"
   ]
  },
  {
   "cell_type": "code",
   "execution_count": 17,
   "id": "4f8c012c-41f9-42aa-9036-75994892e4c4",
   "metadata": {},
   "outputs": [
    {
     "name": "stdout",
     "output_type": "stream",
     "text": [
      "[[1152   40]\n",
      " [ 179  129]]\n",
      "Accuracy: 0.854\n"
     ]
    }
   ],
   "source": [
    "cm = confusion_matrix(y_test, y_pred)\n",
    "print(cm)\n",
    "print(\"Accuracy:\", accuracy_score(y_test, y_pred))"
   ]
  }
 ],
 "metadata": {
  "kernelspec": {
   "display_name": "Python 3 (ipykernel)",
   "language": "python",
   "name": "python3"
  },
  "language_info": {
   "codemirror_mode": {
    "name": "ipython",
    "version": 3
   },
   "file_extension": ".py",
   "mimetype": "text/x-python",
   "name": "python",
   "nbconvert_exporter": "python",
   "pygments_lexer": "ipython3",
   "version": "3.11.7"
  }
 },
 "nbformat": 4,
 "nbformat_minor": 5
}
